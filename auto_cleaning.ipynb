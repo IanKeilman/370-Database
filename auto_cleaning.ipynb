{
 "cells": [
  {
   "cell_type": "code",
   "execution_count": 8,
   "metadata": {},
   "outputs": [],
   "source": [
    "from PIL import Image, ImageEnhance, ImageFilter, ImageOps\n",
    "import pytesseract\n",
    "pytesseract.pytesseract.tesseract_cmd = r\"C:\\\\Program Files\\\\Tesseract-OCR\\\\tesseract.exe\""
   ]
  },
  {
   "cell_type": "markdown",
   "metadata": {},
   "source": [
    "We are going to use pyteseract to extract min and max temps so we have the scale range."
   ]
  },
  {
   "cell_type": "code",
   "execution_count": null,
   "metadata": {},
   "outputs": [
    {
     "name": "stdout",
     "output_type": "stream",
     "text": [
      "min_top_left: 49.7\n",
      "max_top_left: 71.8\n",
      "max_right: 71.4\n",
      "min_right: 49.9\n"
     ]
    }
   ],
   "source": [
    "def run_ocr_on_coords(image_path):\n",
    "    # Hardcoded coordinates for min/max temp regions\n",
    "    coords = {\n",
    "        \"min_top_left\": {\"x\": 36, \"y\": 31, \"width\": 34, \"height\": 15},\n",
    "        \"max_top_left\": {\"x\": 35, \"y\": 45, \"width\": 35, \"height\": 17},\n",
    "        \"max_right\": {\"x\": 197, \"y\": 38, \"width\": 38, \"height\": 18},\n",
    "        \"min_right\": {\"x\": 199, \"y\": 261, \"width\": 36, \"height\": 19}\n",
    "    }\n",
    "\n",
    "    # Load the image\n",
    "    img = Image.open(image_path)\n",
    "    results = {}\n",
    "\n",
    "    for label, coord in coords.items():\n",
    "        x, y, w, h = coord[\"x\"], coord[\"y\"], coord[\"width\"], coord[\"height\"]\n",
    "        cropped = img.crop((x, y, x + w, y + h))\n",
    "\n",
    "        # Preprocessing: grayscale, contrast, sharpen\n",
    "        gray = ImageOps.grayscale(cropped)\n",
    "        enhanced = ImageEnhance.Contrast(gray).enhance(2.0)\n",
    "        sharp = enhanced.filter(ImageFilter.SHARPEN)\n",
    "\n",
    "        # Run OCR\n",
    "        text = pytesseract.image_to_string(\n",
    "            sharp,\n",
    "            config='--psm 6 -c tessedit_char_whitelist=0123456789.'\n",
    "        ).strip()\n",
    "\n",
    "        results[label] = text\n",
    "\n",
    "    return results\n",
    "\n",
    "# Example usage\n",
    "if __name__ == \"__main__\":\n",
    "    image_path = \"thermal_imges_for_exp\\CH01.jpeg\"  # Replace with your path\n",
    "    results = run_ocr_on_coords(image_path)\n",
    "    for key, val in results.items():\n",
    "        print(f\"{key}: {val}\")\n"
   ]
  }
 ],
 "metadata": {
  "kernelspec": {
   "display_name": "Python 3",
   "language": "python",
   "name": "python3"
  },
  "language_info": {
   "codemirror_mode": {
    "name": "ipython",
    "version": 3
   },
   "file_extension": ".py",
   "mimetype": "text/x-python",
   "name": "python",
   "nbconvert_exporter": "python",
   "pygments_lexer": "ipython3",
   "version": "3.11.9"
  }
 },
 "nbformat": 4,
 "nbformat_minor": 2
}
