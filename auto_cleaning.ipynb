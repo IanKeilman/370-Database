{
 "cells": [
  {
   "cell_type": "code",
   "execution_count": 1,
   "metadata": {},
   "outputs": [],
   "source": [
    "from PIL import Image, ImageEnhance, ImageFilter, ImageOps\n",
    "import pytesseract\n",
    "pytesseract.pytesseract.tesseract_cmd = r\"C:\\\\Program Files\\\\Tesseract-OCR\\\\tesseract.exe\""
   ]
  },
  {
   "cell_type": "markdown",
   "metadata": {},
   "source": [
    "We are going to use pyteseract to extract min and max temps so we have the scale range."
   ]
  },
  {
   "cell_type": "code",
   "execution_count": 2,
   "metadata": {},
   "outputs": [
    {
     "name": "stdout",
     "output_type": "stream",
     "text": [
      "min: 49.9\n",
      "min_conf: 70.0\n",
      "max: 71.8\n",
      "max_conf: 85.0\n"
     ]
    }
   ],
   "source": [
    "def run_ocr_on_coords(image_path):\n",
    "    # Hardcoded coordinates for min/max temp regions\n",
    "    coords = {\n",
    "        \"min_top_left\": {\"x\": 36, \"y\": 31, \"width\": 34, \"height\": 15},\n",
    "        \"max_top_left\": {\"x\": 35, \"y\": 45, \"width\": 35, \"height\": 17},\n",
    "        \"max_right\": {\"x\": 197, \"y\": 38, \"width\": 38, \"height\": 18},\n",
    "        \"min_right\": {\"x\": 199, \"y\": 261, \"width\": 36, \"height\": 19}\n",
    "    }\n",
    "\n",
    "        # Load the image\n",
    "    img = Image.open(image_path)\n",
    "\n",
    "    # This dictionary will store for each region both the OCR text and its confidence\n",
    "    results = {}\n",
    "\n",
    "    for label, coord in coords.items():\n",
    "        # Extract coordinates\n",
    "        x, y, w, h = coord[\"x\"], coord[\"y\"], coord[\"width\"], coord[\"height\"]\n",
    "        cropped = img.crop((x, y, x + w, y + h))\n",
    "        \n",
    "        # Preprocess: grayscale, contrast enhancement, and sharpening\n",
    "        gray = ImageOps.grayscale(cropped)\n",
    "        enhanced = ImageEnhance.Contrast(gray).enhance(2.0)\n",
    "        sharp = enhanced.filter(ImageFilter.SHARPEN)\n",
    "        \n",
    "        # Use image_to_data to get detailed OCR results including confidence values\n",
    "        data = pytesseract.image_to_data(\n",
    "            sharp,\n",
    "            output_type=pytesseract.Output.DICT,\n",
    "            config='--psm 6 -c tessedit_char_whitelist=0123456789.'\n",
    "        )\n",
    "        \n",
    "        best_text = \"\"\n",
    "        best_conf = -1  # Initialize with -1 to handle non-detections\n",
    "        # Iterate through detected words (or fragments)\n",
    "        for i in range(len(data['text'])):\n",
    "            text_candidate = data['text'][i].strip()\n",
    "            try:\n",
    "                # Confidence returned as string; convert it to a float\n",
    "                conf = float(data['conf'][i])\n",
    "            except ValueError:\n",
    "                conf = -1  # or simply skip if conversion fails\n",
    "            # Pick the candidate with the highest confidence\n",
    "            if text_candidate and conf > best_conf:\n",
    "                best_text = text_candidate\n",
    "                best_conf = conf\n",
    "\n",
    "        results[label] = {\"value\": best_text, \"conf\": best_conf}\n",
    "\n",
    "    # For regions where the same value is expected (duplicates), select the one with higher confidence.\n",
    "    def choose_better(region1, region2):\n",
    "        r1 = results.get(region1)\n",
    "        r2 = results.get(region2)\n",
    "        if r1 and r2:\n",
    "            return r1 if r1[\"conf\"] >= r2[\"conf\"] else r2\n",
    "        return r1 or r2\n",
    "\n",
    "    final_min = choose_better(\"min_top_left\", \"min_right\")\n",
    "    final_max = choose_better(\"max_top_left\", \"max_right\")\n",
    "\n",
    "    # Return final chosen values and associated confidence scores.\n",
    "    return {\n",
    "        \"min\": final_min[\"value\"], \"min_conf\": final_min[\"conf\"],\n",
    "        \"max\": final_max[\"value\"], \"max_conf\": final_max[\"conf\"]\n",
    "    }\n",
    "\n",
    "\n",
    "\n",
    "\n",
    "# Example usage\n",
    "if __name__ == \"__main__\":\n",
    "    image_path = \"thermal_imges_for_exp\\CH01.jpeg\"  # Replace with your path\n",
    "    results = run_ocr_on_coords(image_path)\n",
    "    for key, val in results.items():\n",
    "        print(f\"{key}: {val}\")\n"
   ]
  }
 ],
 "metadata": {
  "kernelspec": {
   "display_name": "Python 3",
   "language": "python",
   "name": "python3"
  },
  "language_info": {
   "codemirror_mode": {
    "name": "ipython",
    "version": 3
   },
   "file_extension": ".py",
   "mimetype": "text/x-python",
   "name": "python",
   "nbconvert_exporter": "python",
   "pygments_lexer": "ipython3",
   "version": "3.11.9"
  }
 },
 "nbformat": 4,
 "nbformat_minor": 2
}
